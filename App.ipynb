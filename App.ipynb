{
  "nbformat": 4,
  "nbformat_minor": 0,
  "metadata": {
    "colab": {
      "provenance": []
    },
    "kernelspec": {
      "name": "python3",
      "display_name": "Python 3"
    },
    "language_info": {
      "name": "python"
    }
  },
  "cells": [
    {
      "cell_type": "code",
      "execution_count": 19,
      "metadata": {
        "colab": {
          "base_uri": "https://localhost:8080/",
          "height": 384
        },
        "id": "rmhfVCTbfFic",
        "outputId": "2bf50cb1-e64a-4aa5-c24b-3bed4393a656"
      },
      "outputs": [
        {
          "output_type": "error",
          "ename": "ModuleNotFoundError",
          "evalue": "No module named 'streamlit'",
          "traceback": [
            "\u001b[0;31m---------------------------------------------------------------------------\u001b[0m",
            "\u001b[0;31mModuleNotFoundError\u001b[0m                       Traceback (most recent call last)",
            "\u001b[0;32m<ipython-input-19-56ad833c7a51>\u001b[0m in \u001b[0;36m<cell line: 0>\u001b[0;34m()\u001b[0m\n\u001b[1;32m      1\u001b[0m \u001b[0;32mimport\u001b[0m \u001b[0mnumpy\u001b[0m \u001b[0;32mas\u001b[0m \u001b[0mnp\u001b[0m\u001b[0;34m\u001b[0m\u001b[0;34m\u001b[0m\u001b[0m\n\u001b[1;32m      2\u001b[0m \u001b[0;32mimport\u001b[0m \u001b[0mjoblib\u001b[0m\u001b[0;34m\u001b[0m\u001b[0;34m\u001b[0m\u001b[0m\n\u001b[0;32m----> 3\u001b[0;31m \u001b[0;32mimport\u001b[0m \u001b[0mstreamlit\u001b[0m \u001b[0;32mas\u001b[0m \u001b[0mst\u001b[0m\u001b[0;34m\u001b[0m\u001b[0;34m\u001b[0m\u001b[0m\n\u001b[0m\u001b[1;32m      4\u001b[0m \u001b[0;32mfrom\u001b[0m \u001b[0mdatetime\u001b[0m \u001b[0;32mimport\u001b[0m \u001b[0mdatetime\u001b[0m\u001b[0;34m\u001b[0m\u001b[0;34m\u001b[0m\u001b[0m\n\u001b[1;32m      5\u001b[0m \u001b[0;32mfrom\u001b[0m \u001b[0mtensorflow\u001b[0m\u001b[0;34m.\u001b[0m\u001b[0mkeras\u001b[0m\u001b[0;34m.\u001b[0m\u001b[0mmodels\u001b[0m \u001b[0;32mimport\u001b[0m \u001b[0mload_model\u001b[0m\u001b[0;34m\u001b[0m\u001b[0;34m\u001b[0m\u001b[0m\n",
            "\u001b[0;31mModuleNotFoundError\u001b[0m: No module named 'streamlit'",
            "",
            "\u001b[0;31m---------------------------------------------------------------------------\u001b[0;32m\nNOTE: If your import is failing due to a missing package, you can\nmanually install dependencies using either !pip or !apt.\n\nTo view examples of installing some common dependencies, click the\n\"Open Examples\" button below.\n\u001b[0;31m---------------------------------------------------------------------------\u001b[0m\n"
          ],
          "errorDetails": {
            "actions": [
              {
                "action": "open_url",
                "actionText": "Open Examples",
                "url": "/notebooks/snippets/importing_libraries.ipynb"
              }
            ]
          }
        }
      ],
      "source": [
        "import numpy as np\n",
        "import joblib\n",
        "import streamlit as st\n",
        "from datetime import datetime\n",
        "from tensorflow.keras.models import load_model\n",
        "\n",
        "# Load individual models and scaler\n",
        "roi_model = load_model('roi_model.keras')\n",
        "risk_model = load_model('risk_model.keras')\n",
        "scaler = joblib.load('scaler.pkl')\n",
        "\n",
        "# Risk labels\n",
        "risk_labels = {\n",
        "    0: \"Very Low Risk\",\n",
        "    1: \"Low Risk\",\n",
        "    2: \"Moderate Risk\",\n",
        "    3: \"High Risk\",\n",
        "    4: \"Very High Risk\"\n",
        "}\n",
        "\n",
        "# Stock mapping\n",
        "stock_options = {\n",
        "    1: \"NVDA (NVIDIA)\",\n",
        "    2: \"AAPL (Apple)\",\n",
        "    3: \"MSFT (Microsoft)\",\n",
        "    4: \"GOOGL (Alphabet / Google)\",\n",
        "    5: \"TSLA (Tesla)\",\n",
        "    6: \"AMZN (Amazon)\",\n",
        "    7: \"META (Meta / Facebook)\",\n",
        "    8: \"JPM (JPMorgan Chase)\",\n",
        "    9: \"XOM (ExxonMobil)\",\n",
        "    10: \"NFLX (Netflix)\",\n",
        "    11: \"BA (Boeing)\",\n",
        "    12: \"DIS (Disney)\",\n",
        "    13: \"GE (General Electric)\",\n",
        "    14: \"WMT (Walmart)\",\n",
        "    15: \"PEP (PepsiCo)\",\n",
        "    16: \"KO (Coca-Cola)\",\n",
        "    17: \"MCD (McDonald's)\",\n",
        "    18: \"IBM (IBM)\",\n",
        "    19: \"V (Visa)\",\n",
        "    20: \"JNJ (Johnson & Johnson)\"\n",
        "}\n",
        "\n",
        "# Reverse map for dropdown\n",
        "stock_name_to_id = {v: k for k, v in stock_options.items()}\n",
        "\n",
        "# Streamlit UI setup\n",
        "st.set_page_config(page_title=\"Stock ROI & Risk Predictor\", layout=\"centered\")\n",
        "st.title(\"📈 Stock ROI & Risk Predictor\")\n",
        "st.markdown(\"Use this tool to predict *Return on Investment (ROI)*, **Risk Level**, and your **Net Profit**.\")\n",
        "\n",
        "# Dropdown with full stock names\n",
        "stock_choice = st.selectbox(\"Select a Stock\", options=list(stock_name_to_id.keys()))\n",
        "stock_id = stock_name_to_id[stock_choice]\n",
        "\n",
        "# Date inputs in ddmmyyyy format\n",
        "invest_date_str = st.text_input(\"Investment Date (DDMMYYYY)\", value=\"01012025\")\n",
        "takeout_date_str = st.text_input(\"Take-Out Date (DDMMYYYY)\", value=\"01022025\")\n",
        "\n",
        "# Amount input\n",
        "amount = st.number_input(\"Investment Amount ($)\", min_value=1.0, value=1000.0, step=10.0)\n",
        "\n",
        "# Convert date strings to datetime and calculate holding days\n",
        "def calculate_days(start_str, end_str):\n",
        "    try:\n",
        "        start = datetime.strptime(start_str, \"%d%m%Y\")\n",
        "        end = datetime.strptime(end_str, \"%d%m%Y\")\n",
        "        days = (end - start).days\n",
        "        return max(days, 0)\n",
        "    except:\n",
        "        return None\n",
        "\n",
        "# Predict button\n",
        "if st.button(\"Predict\"):\n",
        "    days = calculate_days(invest_date_str, takeout_date_str)\n",
        "\n",
        "    if days is None or days == 0:\n",
        "        st.error(\"Please enter valid dates in DDMMYYYY format. Take-out date must be after investment date.\")\n",
        "    else:\n",
        "        # Prepare input\n",
        "        user_input = np.array([[stock_id, days, amount]])\n",
        "        user_input_scaled = scaler.transform(user_input)\n",
        "\n",
        "        # Predict using separated models\n",
        "        log_roi_pred = roi_model.predict(user_input_scaled)\n",
        "        risk_pred = risk_model.predict(user_input_scaled)\n",
        "\n",
        "        # Convert predictions\n",
        "        roi_percent = np.expm1(log_roi_pred[0][0])  # ROI was trained in log1p space\n",
        "        risk_class = np.argmax(risk_pred)\n",
        "        risk_label = risk_labels[risk_class]\n",
        "\n",
        "        # Calculate profit and total value\n",
        "        profit = (roi_percent / 100) * amount\n",
        "        new_total = amount + profit\n",
        "\n",
        "        # Display results\n",
        "        st.success(f\"*Predicted ROI:* {roi_percent:.2f}%\")\n",
        "        st.info(f\"*Risk Category:* {risk_label} (Class {risk_class})\")\n",
        "        st.markdown(f\"*Net Profit:* ${profit:.2f}\")\n",
        "        st.markdown(f\"*Total After Profit:* ${new_total:.2f}\")\n",
        "\n",
        "        # Risk distribution chart\n",
        "        st.subheader(\"Risk Probability Distribution\")\n",
        "        st.bar_chart(risk_pred[0])\n"
      ]
    }
  ]
}