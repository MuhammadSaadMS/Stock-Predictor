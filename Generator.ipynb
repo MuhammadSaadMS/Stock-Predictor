import pandas as pd
import numpy as np

def generate_synthetic_data(num_samples, stocks_range, invested_range, days_range, risk_classes):
    # Randomly generate synthetic data
    data = {
        'stock': np.random.randint(stocks_range[0], stocks_range[1], size=num_samples),
        'invested_amount': np.random.uniform(invested_range[0], invested_range[1], size=num_samples),
        'days': np.random.randint(days_range[0], days_range[1], size=num_samples),
        'percentage_change': np.random.uniform(-0.2, 0.5, size=num_samples),  # Similar range to given data
        'risk': np.random.choice(risk_classes, size=num_samples)  # Randomly assign risk classes
    }
    return pd.DataFrame(data)

# Parameters for synthetic data generation
num_training_samples = 15000
num_testing_samples = 2000
stocks_range = (1, 20)  # Assuming 20 different stocks
invested_range = (1000, 10000)  # Investment range
days_range = (10, 200)  # Days range
risk_classes = [1, 2, 3, 4, 5]  # Risk levels

# Generate training and testing datasets
synthetic_train = generate_synthetic_data(num_training_samples, stocks_range, invested_range, days_range, risk_classes)
synthetic_test = generate_synthetic_data(num_testing_samples, stocks_range, invested_range, days_range, risk_classes)

# Save to CSV
synthetic_train.to_csv('synthetic_training_data.csv', index=False)
synthetic_test.to_csv('synthetic_testing_data.csv', index=False)

print("Synthetic data generated and saved as 'synthetic_training_data.csv' and 'synthetic_testing_data.csv'.")
